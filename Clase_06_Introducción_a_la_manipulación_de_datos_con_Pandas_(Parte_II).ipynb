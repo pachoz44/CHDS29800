{
  "nbformat": 4,
  "nbformat_minor": 0,
  "metadata": {
    "colab": {
      "name": "Clase 06 - Introducción a la manipulación de datos con Pandas (Parte II).ipynb",
      "provenance": [],
      "collapsed_sections": [
        "MgczHP6Vspy4",
        "gpJpO9Gqs1wa"
      ],
      "authorship_tag": "ABX9TyNFCArDQRWA5kMPiPXQi6YB",
      "include_colab_link": true
    },
    "kernelspec": {
      "name": "python3",
      "display_name": "Python 3"
    },
    "language_info": {
      "name": "python"
    }
  },
  "cells": [
    {
      "cell_type": "markdown",
      "metadata": {
        "id": "view-in-github",
        "colab_type": "text"
      },
      "source": [
        "<a href=\"https://colab.research.google.com/github/pachoz44/CHDS29800/blob/main/Clase_06_Introducci%C3%B3n_a_la_manipulaci%C3%B3n_de_datos_con_Pandas_(Parte_II).ipynb\" target=\"_parent\"><img src=\"https://colab.research.google.com/assets/colab-badge.svg\" alt=\"Open In Colab\"/></a>"
      ]
    },
    {
      "cell_type": "markdown",
      "source": [
        "## **Operaciones sobre numericos**"
      ],
      "metadata": {
        "id": "MgczHP6Vspy4"
      }
    },
    {
      "cell_type": "code",
      "execution_count": 1,
      "metadata": {
        "id": "zChcnnXGkG7T"
      },
      "outputs": [],
      "source": [
        "import pandas as pd"
      ]
    },
    {
      "cell_type": "code",
      "source": [
        "df_lluvias_archivo = pd.read_csv('https://raw.githubusercontent.com/pachoz44/CHDS29800/main/datasets/pune_1965_to_2002.csv')\n",
        "df_lluvias_archivo"
      ],
      "metadata": {
        "id": "noCrF45VkKDi"
      },
      "execution_count": null,
      "outputs": []
    },
    {
      "cell_type": "code",
      "source": [
        "# Sería conveniente que el índice sea la columna Year 🤔 Construyamos un nuevo Data Frame con este índice\n",
        "indice = list(df_lluvias_archivo.Year)\n",
        "indice"
      ],
      "metadata": {
        "id": "mDsVvku4pDzK"
      },
      "execution_count": null,
      "outputs": []
    },
    {
      "cell_type": "code",
      "source": [
        "columnas = df_lluvias_archivo.columns[1:]\n",
        "columnas"
      ],
      "metadata": {
        "colab": {
          "base_uri": "https://localhost:8080/"
        },
        "id": "Oyc94Rnlp97J",
        "outputId": "5e362d0e-76ae-420c-c887-f551a9f9a838"
      },
      "execution_count": 10,
      "outputs": [
        {
          "output_type": "execute_result",
          "data": {
            "text/plain": [
              "Index(['Jan', 'Feb', 'Mar', 'Apr', 'May', 'Jun', 'Jul', 'Aug', 'Sep', 'Oct',\n",
              "       'Nov', 'Dec'],\n",
              "      dtype='object')"
            ]
          },
          "metadata": {},
          "execution_count": 10
        }
      ]
    },
    {
      "cell_type": "code",
      "source": [
        "#Guardamos en un arreglo todos los valores, excepto los de la primera columna\n",
        "valores = df_lluvias_archivo.values[:,1:]\n",
        "valores"
      ],
      "metadata": {
        "id": "fMh_v64AqELg"
      },
      "execution_count": null,
      "outputs": []
    },
    {
      "cell_type": "code",
      "source": [
        "# Ensamblamos las partes… 🦾🤖\n",
        "df_lluvias = pd.DataFrame(valores,index=indice,columns=columnas)\n",
        "df_lluvias"
      ],
      "metadata": {
        "id": "PDFekMGKqbMI"
      },
      "execution_count": null,
      "outputs": []
    },
    {
      "cell_type": "code",
      "source": [
        "# Suma de las precipitaciones para cada mes\n",
        "df_lluvias.sum()"
      ],
      "metadata": {
        "id": "KFG0dnMtrF0g"
      },
      "execution_count": null,
      "outputs": []
    },
    {
      "cell_type": "code",
      "source": [
        "# Promedio de precipitaciones 👉 de cada año\n",
        "df_lluvias.mean(axis='columns')"
      ],
      "metadata": {
        "id": "5upUGcRxrPUs"
      },
      "execution_count": null,
      "outputs": []
    },
    {
      "cell_type": "code",
      "source": [
        "# Podemos obtener un breve resumen del Data Frame con describe()\n",
        "df_lluvias.describe().round(1)"
      ],
      "metadata": {
        "id": "UJHXsGRLrUTs"
      },
      "execution_count": null,
      "outputs": []
    },
    {
      "cell_type": "code",
      "source": [
        "# Si transponemos el Data Frame antes de aplicar describe, obtenemos el resumen según el año\n",
        "df_lluvias.T.describe().round(1)"
      ],
      "metadata": {
        "id": "1_VbPv4qsCa6"
      },
      "execution_count": null,
      "outputs": []
    },
    {
      "cell_type": "markdown",
      "source": [
        "## **Operaciones sobre Strings**"
      ],
      "metadata": {
        "id": "gpJpO9Gqs1wa"
      }
    },
    {
      "cell_type": "code",
      "source": [
        "df_presidentes = pd.read_csv('https://raw.githubusercontent.com/pachoz44/CHDS29800/main/datasets/us_presidents%202.csv')\n",
        "df_presidentes"
      ],
      "metadata": {
        "colab": {
          "base_uri": "https://localhost:8080/",
          "height": 1000
        },
        "id": "b5t6ptnKs6LB",
        "outputId": "fa47a72f-6b1c-4776-c2b2-233bdd604388"
      },
      "execution_count": 56,
      "outputs": [
        {
          "output_type": "execute_result",
          "data": {
            "text/plain": [
              "    Unnamed: 0  S.No.               start                 end  \\\n",
              "0            0      1      April 30, 1789       March 4, 1797   \n",
              "1            1      2       March 4, 1797       March 4, 1801   \n",
              "2            2      3       March 4, 1801       March 4, 1809   \n",
              "3            3      4       March 4, 1809       March 4, 1817   \n",
              "4            4      5       March 4, 1817       March 4, 1825   \n",
              "5            5      6       March 4, 1825       March 4, 1829   \n",
              "6            6      7       March 4, 1829       March 4, 1837   \n",
              "7            7      8       March 4, 1837       March 4, 1841   \n",
              "8            8      9       March 4, 1841       April 4, 1841   \n",
              "9            9     10       April 4, 1841       March 4, 1845   \n",
              "10          10     11       March 4, 1845       March 4, 1849   \n",
              "11          11     12       March 4, 1849        July 9, 1850   \n",
              "12          12     13        July 9, 1850       March 4, 1853   \n",
              "13          13     14       March 4, 1853       March 4, 1857   \n",
              "14          14     15       March 4, 1857       March 4, 1861   \n",
              "15          15     16       March 4, 1861      April 15, 1865   \n",
              "16          16     17      April 15, 1865       March 4, 1869   \n",
              "17          17     18       March 4, 1869       March 4, 1877   \n",
              "18          18     19       March 4, 1877       March 4, 1881   \n",
              "19          19     20       March 4, 1881  September 19, 1881   \n",
              "20          20     21  September 19, 1881       March 4, 1885   \n",
              "21          21     22       March 4, 1885       March 4, 1889   \n",
              "22          22     23       March 4, 1889       March 4, 1893   \n",
              "23          23     24       March 4, 1893       March 4, 1897   \n",
              "24          24     25       March 4, 1897  September 14, 1901   \n",
              "25          25     26  September 14, 1901       March 4, 1909   \n",
              "26          26     27       March 4, 1909       March 4, 1913   \n",
              "27          27     28       March 4, 1913       March 4, 1921   \n",
              "28          28     29       March 4, 1921      August 2, 1923   \n",
              "29          29     30      August 2, 1923       March 4, 1929   \n",
              "30          30     31       March 4, 1929       March 4, 1933   \n",
              "31          31     32       March 4, 1933    January 20, 1941   \n",
              "32          32     33      April 12, 1945    January 20, 1953   \n",
              "33          33     34    January 20, 1953    January 20, 1961   \n",
              "34          34     35    January 20, 1961   November 22, 1963   \n",
              "35          35     36   November 22, 1963    January 20, 1969   \n",
              "36          36     37    January 20, 1969      August 9, 1974   \n",
              "37          37     38      August 9, 1974    January 20, 1977   \n",
              "38          38     39    January 20, 1977    January 20, 1981   \n",
              "39          39     40    January 20, 1981    January 20, 1989   \n",
              "40          40     41    January 20, 1989    January 20, 1993   \n",
              "41          41     42    January 20, 1993    January 20, 2001   \n",
              "42          42     43    January 20, 2001    January 20, 2009   \n",
              "43          43     44    January 20, 2009                 NaN   \n",
              "44          44     45    January 20, 2017                  --   \n",
              "\n",
              "                 president                                              prior  \\\n",
              "0        George Washington  Commander-in-Chief  of the  Continental Army  ...   \n",
              "1               John Adams           1st  Vice President of the United States   \n",
              "2         Thomas Jefferson           2nd  Vice President of the United States   \n",
              "3            James Madison  5th  United States Secretary of State   (1801–...   \n",
              "4             James Monroe  7th  United States Secretary of State   (1811–...   \n",
              "5        John Quincy Adams  8th  United States Secretary of State   (1817–...   \n",
              "6           Andrew Jackson  U.S. Senator   ( Class 2 )   from  Tennessee  ...   \n",
              "7         Martin Van Buren           8th  Vice President of the United States   \n",
              "8   William Henry Harrison   United States Minister to Colombia   (1828–1829)   \n",
              "9               John Tyler          10th  Vice President of the United States   \n",
              "10           James K. Polk           9th  Governor of Tennessee   (1839–1841)   \n",
              "11          Zachary Taylor  Major General  of the  1st Infantry Regiment  ...   \n",
              "12        Millard Fillmore          12th  Vice President of the United States   \n",
              "13         Franklin Pierce  Brigadier General  of the  9th Infantry   Unit...   \n",
              "14          James Buchanan  United States Minister  to the   Court of St J...   \n",
              "15         Abraham Lincoln  U.S. Representative  for  Illinois' 7th Distri...   \n",
              "16          Andrew Johnson          16th  Vice President of the United States   \n",
              "17        Ulysses S. Grant  Commanding General  of the U.S. Army   ( 1864–...   \n",
              "18     Rutherford B. Hayes  29th & 32nd  Governor of Ohio   (1868–1872 & 1...   \n",
              "19       James A. Garfield  U.S. Representative  for  Ohio's 19th District...   \n",
              "20       Chester A. Arthur          20th  Vice President of the United States   \n",
              "21        Grover Cleveland           28th  Governor of New York   (1883–1885)   \n",
              "22       Benjamin Harrison  U.S. Senator   ( Class 1 )   from  Indiana   (...   \n",
              "23        Grover Cleveland  22nd  President of the United States   (1885–1...   \n",
              "24        William McKinley               39th  Governor of Ohio   (1892–1896)   \n",
              "25      Theodore Roosevelt          25th  Vice President of the United States   \n",
              "26     William Howard Taft  42nd  United States Secretary of War   (1904–1...   \n",
              "27          Woodrow Wilson         34th  Governor of New Jersey   (1911–1913)   \n",
              "28       Warren G. Harding  U.S. Senator   ( Class 3 )   from  Ohio   (191...   \n",
              "29         Calvin Coolidge          29th  Vice President of the United States   \n",
              "30          Herbert Hoover  3rd  United States Secretary of Commerce   (19...   \n",
              "31   Franklin D. Roosevelt         44th  Governor of New York   ( 1929–1932 )   \n",
              "32         Harry S. Truman          34th  Vice President of the United States   \n",
              "33    Dwight D. Eisenhower    Supreme Allied Commander Europe   ( 1949–1952 )   \n",
              "34         John F. Kennedy  U.S. Senator   ( Class 1 )   from  Massachuset...   \n",
              "35       Lyndon B. Johnson          37th  Vice President of the United States   \n",
              "36           Richard Nixon  36th  Vice President of the United States   (1...   \n",
              "37             Gerald Ford          40th  Vice President of the United States   \n",
              "38            Jimmy Carter            76th  Governor of Georgia   (1971–1975)   \n",
              "39           Ronald Reagan       33rd  Governor of California   ( 1967–1975 )   \n",
              "40       George H. W. Bush          43rd  Vice President of the United States   \n",
              "41            Bill Clinton  40th & 42nd  Governor of Arkansas   (1979–1981...   \n",
              "42          George W. Bush            46th  Governor of Texas   ( 1995–2000 )   \n",
              "43            Barack Obama  U.S. Senator   ( Class 3 )   from  Illinois   ...   \n",
              "44            Donald Trump  Chairman of   The Trump Organization   ( 1971–...   \n",
              "\n",
              "                                          party                    vice  \n",
              "0                            Nonpartisan   [13]              John Adams  \n",
              "1                                    Federalist        Thomas Jefferson  \n",
              "2                       Democratic-  Republican              Aaron Burr  \n",
              "3                       Democratic-  Republican          George Clinton  \n",
              "4                       Democratic-  Republican      Daniel D. Tompkins  \n",
              "5                       Democratic-  Republican         John C. Calhoun  \n",
              "6                                    Democratic         John C. Calhoun  \n",
              "7                                    Democratic  Richard Mentor Johnson  \n",
              "8                                          Whig              John Tyler  \n",
              "9   Whig   April 4, 1841  –  September 13, 1841           Office vacant  \n",
              "10                                   Democratic        George M. Dallas  \n",
              "11                                         Whig        Millard Fillmore  \n",
              "12                                         Whig           Office vacant  \n",
              "13                                   Democratic         William R. King  \n",
              "14                                   Democratic    John C. Breckinridge  \n",
              "15        Republican   ( National Union )   [i]         Hannibal Hamlin  \n",
              "16  National Union   [i]   ( Democratic )   [j]           Office vacant  \n",
              "17                                   Republican         Schuyler Colfax  \n",
              "18                                   Republican      William A. Wheeler  \n",
              "19                                   Republican       Chester A. Arthur  \n",
              "20                                   Republican           Office vacant  \n",
              "21                                   Democratic     Thomas A. Hendricks  \n",
              "22                                   Republican          Levi P. Morton  \n",
              "23                                   Democratic         Adlai Stevenson  \n",
              "24                                   Republican           Garret Hobart  \n",
              "25                                   Republican           Office vacant  \n",
              "26                                   Republican        James S. Sherman  \n",
              "27                                   Democratic      Thomas R. Marshall  \n",
              "28                                   Republican         Calvin Coolidge  \n",
              "29                                   Republican           Office vacant  \n",
              "30                                   Republican          Charles Curtis  \n",
              "31                                   Democratic       John Nance Garner  \n",
              "32                                   Democratic           Office vacant  \n",
              "33                                   Republican           Richard Nixon  \n",
              "34                                   Democratic       Lyndon B. Johnson  \n",
              "35                                   Democratic           Office vacant  \n",
              "36                                   Republican             Spiro Agnew  \n",
              "37                                   Republican           Office vacant  \n",
              "38                                   Democratic          Walter Mondale  \n",
              "39                                   Republican       George H. W. Bush  \n",
              "40                                   Republican              Dan Quayle  \n",
              "41                                   Democratic                 Al Gore  \n",
              "42                                   Republican             Dick Cheney  \n",
              "43                                   Democratic               Joe Biden  \n",
              "44                                   Republican              Mike Pence  "
            ],
            "text/html": [
              "\n",
              "  <div id=\"df-2db65289-1702-454d-bbf9-9f2fe01f9097\">\n",
              "    <div class=\"colab-df-container\">\n",
              "      <div>\n",
              "<style scoped>\n",
              "    .dataframe tbody tr th:only-of-type {\n",
              "        vertical-align: middle;\n",
              "    }\n",
              "\n",
              "    .dataframe tbody tr th {\n",
              "        vertical-align: top;\n",
              "    }\n",
              "\n",
              "    .dataframe thead th {\n",
              "        text-align: right;\n",
              "    }\n",
              "</style>\n",
              "<table border=\"1\" class=\"dataframe\">\n",
              "  <thead>\n",
              "    <tr style=\"text-align: right;\">\n",
              "      <th></th>\n",
              "      <th>Unnamed: 0</th>\n",
              "      <th>S.No.</th>\n",
              "      <th>start</th>\n",
              "      <th>end</th>\n",
              "      <th>president</th>\n",
              "      <th>prior</th>\n",
              "      <th>party</th>\n",
              "      <th>vice</th>\n",
              "    </tr>\n",
              "  </thead>\n",
              "  <tbody>\n",
              "    <tr>\n",
              "      <th>0</th>\n",
              "      <td>0</td>\n",
              "      <td>1</td>\n",
              "      <td>April 30, 1789</td>\n",
              "      <td>March 4, 1797</td>\n",
              "      <td>George Washington</td>\n",
              "      <td>Commander-in-Chief  of the  Continental Army  ...</td>\n",
              "      <td>Nonpartisan   [13]</td>\n",
              "      <td>John Adams</td>\n",
              "    </tr>\n",
              "    <tr>\n",
              "      <th>1</th>\n",
              "      <td>1</td>\n",
              "      <td>2</td>\n",
              "      <td>March 4, 1797</td>\n",
              "      <td>March 4, 1801</td>\n",
              "      <td>John Adams</td>\n",
              "      <td>1st  Vice President of the United States</td>\n",
              "      <td>Federalist</td>\n",
              "      <td>Thomas Jefferson</td>\n",
              "    </tr>\n",
              "    <tr>\n",
              "      <th>2</th>\n",
              "      <td>2</td>\n",
              "      <td>3</td>\n",
              "      <td>March 4, 1801</td>\n",
              "      <td>March 4, 1809</td>\n",
              "      <td>Thomas Jefferson</td>\n",
              "      <td>2nd  Vice President of the United States</td>\n",
              "      <td>Democratic-  Republican</td>\n",
              "      <td>Aaron Burr</td>\n",
              "    </tr>\n",
              "    <tr>\n",
              "      <th>3</th>\n",
              "      <td>3</td>\n",
              "      <td>4</td>\n",
              "      <td>March 4, 1809</td>\n",
              "      <td>March 4, 1817</td>\n",
              "      <td>James Madison</td>\n",
              "      <td>5th  United States Secretary of State   (1801–...</td>\n",
              "      <td>Democratic-  Republican</td>\n",
              "      <td>George Clinton</td>\n",
              "    </tr>\n",
              "    <tr>\n",
              "      <th>4</th>\n",
              "      <td>4</td>\n",
              "      <td>5</td>\n",
              "      <td>March 4, 1817</td>\n",
              "      <td>March 4, 1825</td>\n",
              "      <td>James Monroe</td>\n",
              "      <td>7th  United States Secretary of State   (1811–...</td>\n",
              "      <td>Democratic-  Republican</td>\n",
              "      <td>Daniel D. Tompkins</td>\n",
              "    </tr>\n",
              "    <tr>\n",
              "      <th>5</th>\n",
              "      <td>5</td>\n",
              "      <td>6</td>\n",
              "      <td>March 4, 1825</td>\n",
              "      <td>March 4, 1829</td>\n",
              "      <td>John Quincy Adams</td>\n",
              "      <td>8th  United States Secretary of State   (1817–...</td>\n",
              "      <td>Democratic-  Republican</td>\n",
              "      <td>John C. Calhoun</td>\n",
              "    </tr>\n",
              "    <tr>\n",
              "      <th>6</th>\n",
              "      <td>6</td>\n",
              "      <td>7</td>\n",
              "      <td>March 4, 1829</td>\n",
              "      <td>March 4, 1837</td>\n",
              "      <td>Andrew Jackson</td>\n",
              "      <td>U.S. Senator   ( Class 2 )   from  Tennessee  ...</td>\n",
              "      <td>Democratic</td>\n",
              "      <td>John C. Calhoun</td>\n",
              "    </tr>\n",
              "    <tr>\n",
              "      <th>7</th>\n",
              "      <td>7</td>\n",
              "      <td>8</td>\n",
              "      <td>March 4, 1837</td>\n",
              "      <td>March 4, 1841</td>\n",
              "      <td>Martin Van Buren</td>\n",
              "      <td>8th  Vice President of the United States</td>\n",
              "      <td>Democratic</td>\n",
              "      <td>Richard Mentor Johnson</td>\n",
              "    </tr>\n",
              "    <tr>\n",
              "      <th>8</th>\n",
              "      <td>8</td>\n",
              "      <td>9</td>\n",
              "      <td>March 4, 1841</td>\n",
              "      <td>April 4, 1841</td>\n",
              "      <td>William Henry Harrison</td>\n",
              "      <td>United States Minister to Colombia   (1828–1829)</td>\n",
              "      <td>Whig</td>\n",
              "      <td>John Tyler</td>\n",
              "    </tr>\n",
              "    <tr>\n",
              "      <th>9</th>\n",
              "      <td>9</td>\n",
              "      <td>10</td>\n",
              "      <td>April 4, 1841</td>\n",
              "      <td>March 4, 1845</td>\n",
              "      <td>John Tyler</td>\n",
              "      <td>10th  Vice President of the United States</td>\n",
              "      <td>Whig   April 4, 1841  –  September 13, 1841</td>\n",
              "      <td>Office vacant</td>\n",
              "    </tr>\n",
              "    <tr>\n",
              "      <th>10</th>\n",
              "      <td>10</td>\n",
              "      <td>11</td>\n",
              "      <td>March 4, 1845</td>\n",
              "      <td>March 4, 1849</td>\n",
              "      <td>James K. Polk</td>\n",
              "      <td>9th  Governor of Tennessee   (1839–1841)</td>\n",
              "      <td>Democratic</td>\n",
              "      <td>George M. Dallas</td>\n",
              "    </tr>\n",
              "    <tr>\n",
              "      <th>11</th>\n",
              "      <td>11</td>\n",
              "      <td>12</td>\n",
              "      <td>March 4, 1849</td>\n",
              "      <td>July 9, 1850</td>\n",
              "      <td>Zachary Taylor</td>\n",
              "      <td>Major General  of the  1st Infantry Regiment  ...</td>\n",
              "      <td>Whig</td>\n",
              "      <td>Millard Fillmore</td>\n",
              "    </tr>\n",
              "    <tr>\n",
              "      <th>12</th>\n",
              "      <td>12</td>\n",
              "      <td>13</td>\n",
              "      <td>July 9, 1850</td>\n",
              "      <td>March 4, 1853</td>\n",
              "      <td>Millard Fillmore</td>\n",
              "      <td>12th  Vice President of the United States</td>\n",
              "      <td>Whig</td>\n",
              "      <td>Office vacant</td>\n",
              "    </tr>\n",
              "    <tr>\n",
              "      <th>13</th>\n",
              "      <td>13</td>\n",
              "      <td>14</td>\n",
              "      <td>March 4, 1853</td>\n",
              "      <td>March 4, 1857</td>\n",
              "      <td>Franklin Pierce</td>\n",
              "      <td>Brigadier General  of the  9th Infantry   Unit...</td>\n",
              "      <td>Democratic</td>\n",
              "      <td>William R. King</td>\n",
              "    </tr>\n",
              "    <tr>\n",
              "      <th>14</th>\n",
              "      <td>14</td>\n",
              "      <td>15</td>\n",
              "      <td>March 4, 1857</td>\n",
              "      <td>March 4, 1861</td>\n",
              "      <td>James Buchanan</td>\n",
              "      <td>United States Minister  to the   Court of St J...</td>\n",
              "      <td>Democratic</td>\n",
              "      <td>John C. Breckinridge</td>\n",
              "    </tr>\n",
              "    <tr>\n",
              "      <th>15</th>\n",
              "      <td>15</td>\n",
              "      <td>16</td>\n",
              "      <td>March 4, 1861</td>\n",
              "      <td>April 15, 1865</td>\n",
              "      <td>Abraham Lincoln</td>\n",
              "      <td>U.S. Representative  for  Illinois' 7th Distri...</td>\n",
              "      <td>Republican   ( National Union )   [i]</td>\n",
              "      <td>Hannibal Hamlin</td>\n",
              "    </tr>\n",
              "    <tr>\n",
              "      <th>16</th>\n",
              "      <td>16</td>\n",
              "      <td>17</td>\n",
              "      <td>April 15, 1865</td>\n",
              "      <td>March 4, 1869</td>\n",
              "      <td>Andrew Johnson</td>\n",
              "      <td>16th  Vice President of the United States</td>\n",
              "      <td>National Union   [i]   ( Democratic )   [j]</td>\n",
              "      <td>Office vacant</td>\n",
              "    </tr>\n",
              "    <tr>\n",
              "      <th>17</th>\n",
              "      <td>17</td>\n",
              "      <td>18</td>\n",
              "      <td>March 4, 1869</td>\n",
              "      <td>March 4, 1877</td>\n",
              "      <td>Ulysses S. Grant</td>\n",
              "      <td>Commanding General  of the U.S. Army   ( 1864–...</td>\n",
              "      <td>Republican</td>\n",
              "      <td>Schuyler Colfax</td>\n",
              "    </tr>\n",
              "    <tr>\n",
              "      <th>18</th>\n",
              "      <td>18</td>\n",
              "      <td>19</td>\n",
              "      <td>March 4, 1877</td>\n",
              "      <td>March 4, 1881</td>\n",
              "      <td>Rutherford B. Hayes</td>\n",
              "      <td>29th &amp; 32nd  Governor of Ohio   (1868–1872 &amp; 1...</td>\n",
              "      <td>Republican</td>\n",
              "      <td>William A. Wheeler</td>\n",
              "    </tr>\n",
              "    <tr>\n",
              "      <th>19</th>\n",
              "      <td>19</td>\n",
              "      <td>20</td>\n",
              "      <td>March 4, 1881</td>\n",
              "      <td>September 19, 1881</td>\n",
              "      <td>James A. Garfield</td>\n",
              "      <td>U.S. Representative  for  Ohio's 19th District...</td>\n",
              "      <td>Republican</td>\n",
              "      <td>Chester A. Arthur</td>\n",
              "    </tr>\n",
              "    <tr>\n",
              "      <th>20</th>\n",
              "      <td>20</td>\n",
              "      <td>21</td>\n",
              "      <td>September 19, 1881</td>\n",
              "      <td>March 4, 1885</td>\n",
              "      <td>Chester A. Arthur</td>\n",
              "      <td>20th  Vice President of the United States</td>\n",
              "      <td>Republican</td>\n",
              "      <td>Office vacant</td>\n",
              "    </tr>\n",
              "    <tr>\n",
              "      <th>21</th>\n",
              "      <td>21</td>\n",
              "      <td>22</td>\n",
              "      <td>March 4, 1885</td>\n",
              "      <td>March 4, 1889</td>\n",
              "      <td>Grover Cleveland</td>\n",
              "      <td>28th  Governor of New York   (1883–1885)</td>\n",
              "      <td>Democratic</td>\n",
              "      <td>Thomas A. Hendricks</td>\n",
              "    </tr>\n",
              "    <tr>\n",
              "      <th>22</th>\n",
              "      <td>22</td>\n",
              "      <td>23</td>\n",
              "      <td>March 4, 1889</td>\n",
              "      <td>March 4, 1893</td>\n",
              "      <td>Benjamin Harrison</td>\n",
              "      <td>U.S. Senator   ( Class 1 )   from  Indiana   (...</td>\n",
              "      <td>Republican</td>\n",
              "      <td>Levi P. Morton</td>\n",
              "    </tr>\n",
              "    <tr>\n",
              "      <th>23</th>\n",
              "      <td>23</td>\n",
              "      <td>24</td>\n",
              "      <td>March 4, 1893</td>\n",
              "      <td>March 4, 1897</td>\n",
              "      <td>Grover Cleveland</td>\n",
              "      <td>22nd  President of the United States   (1885–1...</td>\n",
              "      <td>Democratic</td>\n",
              "      <td>Adlai Stevenson</td>\n",
              "    </tr>\n",
              "    <tr>\n",
              "      <th>24</th>\n",
              "      <td>24</td>\n",
              "      <td>25</td>\n",
              "      <td>March 4, 1897</td>\n",
              "      <td>September 14, 1901</td>\n",
              "      <td>William McKinley</td>\n",
              "      <td>39th  Governor of Ohio   (1892–1896)</td>\n",
              "      <td>Republican</td>\n",
              "      <td>Garret Hobart</td>\n",
              "    </tr>\n",
              "    <tr>\n",
              "      <th>25</th>\n",
              "      <td>25</td>\n",
              "      <td>26</td>\n",
              "      <td>September 14, 1901</td>\n",
              "      <td>March 4, 1909</td>\n",
              "      <td>Theodore Roosevelt</td>\n",
              "      <td>25th  Vice President of the United States</td>\n",
              "      <td>Republican</td>\n",
              "      <td>Office vacant</td>\n",
              "    </tr>\n",
              "    <tr>\n",
              "      <th>26</th>\n",
              "      <td>26</td>\n",
              "      <td>27</td>\n",
              "      <td>March 4, 1909</td>\n",
              "      <td>March 4, 1913</td>\n",
              "      <td>William Howard Taft</td>\n",
              "      <td>42nd  United States Secretary of War   (1904–1...</td>\n",
              "      <td>Republican</td>\n",
              "      <td>James S. Sherman</td>\n",
              "    </tr>\n",
              "    <tr>\n",
              "      <th>27</th>\n",
              "      <td>27</td>\n",
              "      <td>28</td>\n",
              "      <td>March 4, 1913</td>\n",
              "      <td>March 4, 1921</td>\n",
              "      <td>Woodrow Wilson</td>\n",
              "      <td>34th  Governor of New Jersey   (1911–1913)</td>\n",
              "      <td>Democratic</td>\n",
              "      <td>Thomas R. Marshall</td>\n",
              "    </tr>\n",
              "    <tr>\n",
              "      <th>28</th>\n",
              "      <td>28</td>\n",
              "      <td>29</td>\n",
              "      <td>March 4, 1921</td>\n",
              "      <td>August 2, 1923</td>\n",
              "      <td>Warren G. Harding</td>\n",
              "      <td>U.S. Senator   ( Class 3 )   from  Ohio   (191...</td>\n",
              "      <td>Republican</td>\n",
              "      <td>Calvin Coolidge</td>\n",
              "    </tr>\n",
              "    <tr>\n",
              "      <th>29</th>\n",
              "      <td>29</td>\n",
              "      <td>30</td>\n",
              "      <td>August 2, 1923</td>\n",
              "      <td>March 4, 1929</td>\n",
              "      <td>Calvin Coolidge</td>\n",
              "      <td>29th  Vice President of the United States</td>\n",
              "      <td>Republican</td>\n",
              "      <td>Office vacant</td>\n",
              "    </tr>\n",
              "    <tr>\n",
              "      <th>30</th>\n",
              "      <td>30</td>\n",
              "      <td>31</td>\n",
              "      <td>March 4, 1929</td>\n",
              "      <td>March 4, 1933</td>\n",
              "      <td>Herbert Hoover</td>\n",
              "      <td>3rd  United States Secretary of Commerce   (19...</td>\n",
              "      <td>Republican</td>\n",
              "      <td>Charles Curtis</td>\n",
              "    </tr>\n",
              "    <tr>\n",
              "      <th>31</th>\n",
              "      <td>31</td>\n",
              "      <td>32</td>\n",
              "      <td>March 4, 1933</td>\n",
              "      <td>January 20, 1941</td>\n",
              "      <td>Franklin D. Roosevelt</td>\n",
              "      <td>44th  Governor of New York   ( 1929–1932 )</td>\n",
              "      <td>Democratic</td>\n",
              "      <td>John Nance Garner</td>\n",
              "    </tr>\n",
              "    <tr>\n",
              "      <th>32</th>\n",
              "      <td>32</td>\n",
              "      <td>33</td>\n",
              "      <td>April 12, 1945</td>\n",
              "      <td>January 20, 1953</td>\n",
              "      <td>Harry S. Truman</td>\n",
              "      <td>34th  Vice President of the United States</td>\n",
              "      <td>Democratic</td>\n",
              "      <td>Office vacant</td>\n",
              "    </tr>\n",
              "    <tr>\n",
              "      <th>33</th>\n",
              "      <td>33</td>\n",
              "      <td>34</td>\n",
              "      <td>January 20, 1953</td>\n",
              "      <td>January 20, 1961</td>\n",
              "      <td>Dwight D. Eisenhower</td>\n",
              "      <td>Supreme Allied Commander Europe   ( 1949–1952 )</td>\n",
              "      <td>Republican</td>\n",
              "      <td>Richard Nixon</td>\n",
              "    </tr>\n",
              "    <tr>\n",
              "      <th>34</th>\n",
              "      <td>34</td>\n",
              "      <td>35</td>\n",
              "      <td>January 20, 1961</td>\n",
              "      <td>November 22, 1963</td>\n",
              "      <td>John F. Kennedy</td>\n",
              "      <td>U.S. Senator   ( Class 1 )   from  Massachuset...</td>\n",
              "      <td>Democratic</td>\n",
              "      <td>Lyndon B. Johnson</td>\n",
              "    </tr>\n",
              "    <tr>\n",
              "      <th>35</th>\n",
              "      <td>35</td>\n",
              "      <td>36</td>\n",
              "      <td>November 22, 1963</td>\n",
              "      <td>January 20, 1969</td>\n",
              "      <td>Lyndon B. Johnson</td>\n",
              "      <td>37th  Vice President of the United States</td>\n",
              "      <td>Democratic</td>\n",
              "      <td>Office vacant</td>\n",
              "    </tr>\n",
              "    <tr>\n",
              "      <th>36</th>\n",
              "      <td>36</td>\n",
              "      <td>37</td>\n",
              "      <td>January 20, 1969</td>\n",
              "      <td>August 9, 1974</td>\n",
              "      <td>Richard Nixon</td>\n",
              "      <td>36th  Vice President of the United States   (1...</td>\n",
              "      <td>Republican</td>\n",
              "      <td>Spiro Agnew</td>\n",
              "    </tr>\n",
              "    <tr>\n",
              "      <th>37</th>\n",
              "      <td>37</td>\n",
              "      <td>38</td>\n",
              "      <td>August 9, 1974</td>\n",
              "      <td>January 20, 1977</td>\n",
              "      <td>Gerald Ford</td>\n",
              "      <td>40th  Vice President of the United States</td>\n",
              "      <td>Republican</td>\n",
              "      <td>Office vacant</td>\n",
              "    </tr>\n",
              "    <tr>\n",
              "      <th>38</th>\n",
              "      <td>38</td>\n",
              "      <td>39</td>\n",
              "      <td>January 20, 1977</td>\n",
              "      <td>January 20, 1981</td>\n",
              "      <td>Jimmy Carter</td>\n",
              "      <td>76th  Governor of Georgia   (1971–1975)</td>\n",
              "      <td>Democratic</td>\n",
              "      <td>Walter Mondale</td>\n",
              "    </tr>\n",
              "    <tr>\n",
              "      <th>39</th>\n",
              "      <td>39</td>\n",
              "      <td>40</td>\n",
              "      <td>January 20, 1981</td>\n",
              "      <td>January 20, 1989</td>\n",
              "      <td>Ronald Reagan</td>\n",
              "      <td>33rd  Governor of California   ( 1967–1975 )</td>\n",
              "      <td>Republican</td>\n",
              "      <td>George H. W. Bush</td>\n",
              "    </tr>\n",
              "    <tr>\n",
              "      <th>40</th>\n",
              "      <td>40</td>\n",
              "      <td>41</td>\n",
              "      <td>January 20, 1989</td>\n",
              "      <td>January 20, 1993</td>\n",
              "      <td>George H. W. Bush</td>\n",
              "      <td>43rd  Vice President of the United States</td>\n",
              "      <td>Republican</td>\n",
              "      <td>Dan Quayle</td>\n",
              "    </tr>\n",
              "    <tr>\n",
              "      <th>41</th>\n",
              "      <td>41</td>\n",
              "      <td>42</td>\n",
              "      <td>January 20, 1993</td>\n",
              "      <td>January 20, 2001</td>\n",
              "      <td>Bill Clinton</td>\n",
              "      <td>40th &amp; 42nd  Governor of Arkansas   (1979–1981...</td>\n",
              "      <td>Democratic</td>\n",
              "      <td>Al Gore</td>\n",
              "    </tr>\n",
              "    <tr>\n",
              "      <th>42</th>\n",
              "      <td>42</td>\n",
              "      <td>43</td>\n",
              "      <td>January 20, 2001</td>\n",
              "      <td>January 20, 2009</td>\n",
              "      <td>George W. Bush</td>\n",
              "      <td>46th  Governor of Texas   ( 1995–2000 )</td>\n",
              "      <td>Republican</td>\n",
              "      <td>Dick Cheney</td>\n",
              "    </tr>\n",
              "    <tr>\n",
              "      <th>43</th>\n",
              "      <td>43</td>\n",
              "      <td>44</td>\n",
              "      <td>January 20, 2009</td>\n",
              "      <td>NaN</td>\n",
              "      <td>Barack Obama</td>\n",
              "      <td>U.S. Senator   ( Class 3 )   from  Illinois   ...</td>\n",
              "      <td>Democratic</td>\n",
              "      <td>Joe Biden</td>\n",
              "    </tr>\n",
              "    <tr>\n",
              "      <th>44</th>\n",
              "      <td>44</td>\n",
              "      <td>45</td>\n",
              "      <td>January 20, 2017</td>\n",
              "      <td>--</td>\n",
              "      <td>Donald Trump</td>\n",
              "      <td>Chairman of   The Trump Organization   ( 1971–...</td>\n",
              "      <td>Republican</td>\n",
              "      <td>Mike Pence</td>\n",
              "    </tr>\n",
              "  </tbody>\n",
              "</table>\n",
              "</div>\n",
              "      <button class=\"colab-df-convert\" onclick=\"convertToInteractive('df-2db65289-1702-454d-bbf9-9f2fe01f9097')\"\n",
              "              title=\"Convert this dataframe to an interactive table.\"\n",
              "              style=\"display:none;\">\n",
              "        \n",
              "  <svg xmlns=\"http://www.w3.org/2000/svg\" height=\"24px\"viewBox=\"0 0 24 24\"\n",
              "       width=\"24px\">\n",
              "    <path d=\"M0 0h24v24H0V0z\" fill=\"none\"/>\n",
              "    <path d=\"M18.56 5.44l.94 2.06.94-2.06 2.06-.94-2.06-.94-.94-2.06-.94 2.06-2.06.94zm-11 1L8.5 8.5l.94-2.06 2.06-.94-2.06-.94L8.5 2.5l-.94 2.06-2.06.94zm10 10l.94 2.06.94-2.06 2.06-.94-2.06-.94-.94-2.06-.94 2.06-2.06.94z\"/><path d=\"M17.41 7.96l-1.37-1.37c-.4-.4-.92-.59-1.43-.59-.52 0-1.04.2-1.43.59L10.3 9.45l-7.72 7.72c-.78.78-.78 2.05 0 2.83L4 21.41c.39.39.9.59 1.41.59.51 0 1.02-.2 1.41-.59l7.78-7.78 2.81-2.81c.8-.78.8-2.07 0-2.86zM5.41 20L4 18.59l7.72-7.72 1.47 1.35L5.41 20z\"/>\n",
              "  </svg>\n",
              "      </button>\n",
              "      \n",
              "  <style>\n",
              "    .colab-df-container {\n",
              "      display:flex;\n",
              "      flex-wrap:wrap;\n",
              "      gap: 12px;\n",
              "    }\n",
              "\n",
              "    .colab-df-convert {\n",
              "      background-color: #E8F0FE;\n",
              "      border: none;\n",
              "      border-radius: 50%;\n",
              "      cursor: pointer;\n",
              "      display: none;\n",
              "      fill: #1967D2;\n",
              "      height: 32px;\n",
              "      padding: 0 0 0 0;\n",
              "      width: 32px;\n",
              "    }\n",
              "\n",
              "    .colab-df-convert:hover {\n",
              "      background-color: #E2EBFA;\n",
              "      box-shadow: 0px 1px 2px rgba(60, 64, 67, 0.3), 0px 1px 3px 1px rgba(60, 64, 67, 0.15);\n",
              "      fill: #174EA6;\n",
              "    }\n",
              "\n",
              "    [theme=dark] .colab-df-convert {\n",
              "      background-color: #3B4455;\n",
              "      fill: #D2E3FC;\n",
              "    }\n",
              "\n",
              "    [theme=dark] .colab-df-convert:hover {\n",
              "      background-color: #434B5C;\n",
              "      box-shadow: 0px 1px 3px 1px rgba(0, 0, 0, 0.15);\n",
              "      filter: drop-shadow(0px 1px 2px rgba(0, 0, 0, 0.3));\n",
              "      fill: #FFFFFF;\n",
              "    }\n",
              "  </style>\n",
              "\n",
              "      <script>\n",
              "        const buttonEl =\n",
              "          document.querySelector('#df-2db65289-1702-454d-bbf9-9f2fe01f9097 button.colab-df-convert');\n",
              "        buttonEl.style.display =\n",
              "          google.colab.kernel.accessAllowed ? 'block' : 'none';\n",
              "\n",
              "        async function convertToInteractive(key) {\n",
              "          const element = document.querySelector('#df-2db65289-1702-454d-bbf9-9f2fe01f9097');\n",
              "          const dataTable =\n",
              "            await google.colab.kernel.invokeFunction('convertToInteractive',\n",
              "                                                     [key], {});\n",
              "          if (!dataTable) return;\n",
              "\n",
              "          const docLinkHtml = 'Like what you see? Visit the ' +\n",
              "            '<a target=\"_blank\" href=https://colab.research.google.com/notebooks/data_table.ipynb>data table notebook</a>'\n",
              "            + ' to learn more about interactive tables.';\n",
              "          element.innerHTML = '';\n",
              "          dataTable['output_type'] = 'display_data';\n",
              "          await google.colab.output.renderOutput(dataTable, element);\n",
              "          const docLink = document.createElement('div');\n",
              "          docLink.innerHTML = docLinkHtml;\n",
              "          element.appendChild(docLink);\n",
              "        }\n",
              "      </script>\n",
              "    </div>\n",
              "  </div>\n",
              "  "
            ]
          },
          "metadata": {},
          "execution_count": 56
        }
      ]
    },
    {
      "cell_type": "code",
      "source": [
        "series_nombres = pd.Series(df_presidentes['president'])\n",
        "series_nombres"
      ],
      "metadata": {
        "colab": {
          "base_uri": "https://localhost:8080/"
        },
        "id": "80jIuKECuWnI",
        "outputId": "0d509aba-b69f-42aa-dad1-ac19d2b1d010"
      },
      "execution_count": 55,
      "outputs": [
        {
          "output_type": "execute_result",
          "data": {
            "text/plain": [
              "0          George Washington\n",
              "1                 John Adams\n",
              "2           Thomas Jefferson\n",
              "3              James Madison\n",
              "4               James Monroe\n",
              "5          John Quincy Adams\n",
              "6             Andrew Jackson\n",
              "7           Martin Van Buren\n",
              "8     William Henry Harrison\n",
              "9                 John Tyler\n",
              "10             James K. Polk\n",
              "11            Zachary Taylor\n",
              "12          Millard Fillmore\n",
              "13           Franklin Pierce\n",
              "14            James Buchanan\n",
              "15           Abraham Lincoln\n",
              "16            Andrew Johnson\n",
              "17          Ulysses S. Grant\n",
              "18       Rutherford B. Hayes\n",
              "19         James A. Garfield\n",
              "20         Chester A. Arthur\n",
              "21          Grover Cleveland\n",
              "22         Benjamin Harrison\n",
              "23          Grover Cleveland\n",
              "24          William McKinley\n",
              "25        Theodore Roosevelt\n",
              "26       William Howard Taft\n",
              "27            Woodrow Wilson\n",
              "28         Warren G. Harding\n",
              "29           Calvin Coolidge\n",
              "30            Herbert Hoover\n",
              "31     Franklin D. Roosevelt\n",
              "32           Harry S. Truman\n",
              "33      Dwight D. Eisenhower\n",
              "34           John F. Kennedy\n",
              "35         Lyndon B. Johnson\n",
              "36             Richard Nixon\n",
              "37               Gerald Ford\n",
              "38              Jimmy Carter\n",
              "39             Ronald Reagan\n",
              "40         George H. W. Bush\n",
              "41              Bill Clinton\n",
              "42            George W. Bush\n",
              "43              Barack Obama\n",
              "44              Donald Trump\n",
              "Name: president, dtype: object"
            ]
          },
          "metadata": {},
          "execution_count": 55
        }
      ]
    },
    {
      "cell_type": "code",
      "source": [
        "series_nombres.str.upper()  # convierte a Mayusculas"
      ],
      "metadata": {
        "id": "1nMZe2MgudP1"
      },
      "execution_count": null,
      "outputs": []
    },
    {
      "cell_type": "code",
      "source": [
        "series_nombres.str.len()  # longitus total incluyendo espacios y otros caracteres\n"
      ],
      "metadata": {
        "id": "LJwz-JjkukRi"
      },
      "execution_count": null,
      "outputs": []
    },
    {
      "cell_type": "code",
      "source": [
        "series_nombres.str.startswith('J') #Evaluar si comienzan con una determinada letra"
      ],
      "metadata": {
        "id": "4APYHMQCvX7w"
      },
      "execution_count": null,
      "outputs": []
    },
    {
      "cell_type": "code",
      "source": [
        "series_nombres.str.split() # Separar en una lista usando el espacio como separador"
      ],
      "metadata": {
        "id": "Ep3AE331vX0x"
      },
      "execution_count": null,
      "outputs": []
    },
    {
      "cell_type": "markdown",
      "source": [
        "## **Introduccion a SERIES DE TIEMPO**"
      ],
      "metadata": {
        "id": "xMDRWEEQwHMn"
      }
    },
    {
      "cell_type": "code",
      "source": [
        "#Convertir String a Timestamp:\n",
        "fecha = pd.to_datetime('03/01/2020',dayfirst=True)\n",
        "fecha"
      ],
      "metadata": {
        "colab": {
          "base_uri": "https://localhost:8080/"
        },
        "id": "DGQCA2NpvXtL",
        "outputId": "e3cbfe7d-417b-4559-efab-573267c9f71a"
      },
      "execution_count": 39,
      "outputs": [
        {
          "output_type": "execute_result",
          "data": {
            "text/plain": [
              "Timestamp('2020-01-03 00:00:00')"
            ]
          },
          "metadata": {},
          "execution_count": 39
        }
      ]
    },
    {
      "cell_type": "code",
      "source": [
        "# Días desde el 3 de enero del 2020 al 10 de enero del 2020:\n",
        "inicio = pd.to_datetime('03/01/2020', dayfirst=True)\n",
        "final  = pd.to_datetime('10/01/2020', dayfirst=True)\n",
        "dias_diferencia = pd.date_range(start=inicio, end=final)\n",
        "dias_diferencia"
      ],
      "metadata": {
        "colab": {
          "base_uri": "https://localhost:8080/"
        },
        "id": "ABa1nUbHvXk7",
        "outputId": "467b49ca-3509-4207-ccbf-a88186ed38a2"
      },
      "execution_count": 40,
      "outputs": [
        {
          "output_type": "execute_result",
          "data": {
            "text/plain": [
              "DatetimeIndex(['2020-01-03', '2020-01-04', '2020-01-05', '2020-01-06',\n",
              "               '2020-01-07', '2020-01-08', '2020-01-09', '2020-01-10'],\n",
              "              dtype='datetime64[ns]', freq='D')"
            ]
          },
          "metadata": {},
          "execution_count": 40
        }
      ]
    },
    {
      "cell_type": "code",
      "source": [
        "fechas_2 = pd.date_range(start=inicio, periods=8)\n",
        "fechas_2"
      ],
      "metadata": {
        "colab": {
          "base_uri": "https://localhost:8080/"
        },
        "id": "HjJR5jqe6cSo",
        "outputId": "87213f28-582b-4760-a23c-bd61f6477df4"
      },
      "execution_count": 41,
      "outputs": [
        {
          "output_type": "execute_result",
          "data": {
            "text/plain": [
              "DatetimeIndex(['2020-01-03', '2020-01-04', '2020-01-05', '2020-01-06',\n",
              "               '2020-01-07', '2020-01-08', '2020-01-09', '2020-01-10'],\n",
              "              dtype='datetime64[ns]', freq='D')"
            ]
          },
          "metadata": {},
          "execution_count": 41
        }
      ]
    },
    {
      "cell_type": "code",
      "source": [
        "# Cambiando la frecuencia a meses en lugar de días:\n",
        "fechas_3 = pd.date_range(start= fecha, periods= 8, freq='M')\n",
        "fechas_3"
      ],
      "metadata": {
        "colab": {
          "base_uri": "https://localhost:8080/"
        },
        "id": "YsNRjgKN6rE5",
        "outputId": "68b7ffa9-d621-4bad-912d-4ff2f5a18a11"
      },
      "execution_count": 42,
      "outputs": [
        {
          "output_type": "execute_result",
          "data": {
            "text/plain": [
              "DatetimeIndex(['2020-01-31', '2020-02-29', '2020-03-31', '2020-04-30',\n",
              "               '2020-05-31', '2020-06-30', '2020-07-31', '2020-08-31'],\n",
              "              dtype='datetime64[ns]', freq='M')"
            ]
          },
          "metadata": {},
          "execution_count": 42
        }
      ]
    },
    {
      "cell_type": "code",
      "source": [
        "# mes de inicio\n",
        "mes_inicio = fecha.strftime('%Y-%m')\n",
        "mes_inicio"
      ],
      "metadata": {
        "colab": {
          "base_uri": "https://localhost:8080/",
          "height": 36
        },
        "id": "KeH5h2cB7I_r",
        "outputId": "82f0d8fe-f985-4546-a90c-23bedce520d5"
      },
      "execution_count": 43,
      "outputs": [
        {
          "output_type": "execute_result",
          "data": {
            "text/plain": [
              "'2020-01'"
            ],
            "application/vnd.google.colaboratory.intrinsic+json": {
              "type": "string"
            }
          },
          "metadata": {},
          "execution_count": 43
        }
      ]
    },
    {
      "cell_type": "code",
      "source": [
        "fechas_4 = pd.period_range(start=mes_inicio, periods=8, freq='M')\n",
        "fechas_4 #8 meses desde el periodo de inicio"
      ],
      "metadata": {
        "colab": {
          "base_uri": "https://localhost:8080/"
        },
        "id": "5hRCNvvd7UtZ",
        "outputId": "b19538cf-7d3f-4a06-e4a3-b7973b7ad1c5"
      },
      "execution_count": 44,
      "outputs": [
        {
          "output_type": "execute_result",
          "data": {
            "text/plain": [
              "PeriodIndex(['2020-01', '2020-02', '2020-03', '2020-04', '2020-05', '2020-06',\n",
              "             '2020-07', '2020-08'],\n",
              "            dtype='period[M]')"
            ]
          },
          "metadata": {},
          "execution_count": 44
        }
      ]
    },
    {
      "cell_type": "code",
      "source": [
        "# ¿Cuánto tiempo pasó desde el primer periodo al último?\n",
        "cuanto_tiempo = fechas_3[7] - fechas_3[0]\n",
        "cuanto_tiempo"
      ],
      "metadata": {
        "colab": {
          "base_uri": "https://localhost:8080/"
        },
        "id": "i_L3W8Nl7duY",
        "outputId": "ba99dfcd-3fed-4374-9965-2c9c31f70eaf"
      },
      "execution_count": 46,
      "outputs": [
        {
          "output_type": "execute_result",
          "data": {
            "text/plain": [
              "Timedelta('213 days 00:00:00')"
            ]
          },
          "metadata": {},
          "execution_count": 46
        }
      ]
    },
    {
      "cell_type": "code",
      "source": [
        "# ¿Cuántos meses pasaron desde el primer periodo al último?\n",
        "cuanto_tiempo_meses = fechas_3[7].to_period('M') - fechas_3[0].to_period('M') \n",
        "cuanto_tiempo_meses\n"
      ],
      "metadata": {
        "colab": {
          "base_uri": "https://localhost:8080/"
        },
        "id": "WzA0dA_s7uoP",
        "outputId": "2334d646-05e4-446a-d222-0e7111e69cab"
      },
      "execution_count": 47,
      "outputs": [
        {
          "output_type": "execute_result",
          "data": {
            "text/plain": [
              "<7 * MonthEnds>"
            ]
          },
          "metadata": {},
          "execution_count": 47
        }
      ]
    },
    {
      "cell_type": "markdown",
      "source": [
        "## **Conversion a DateTimeIndex**"
      ],
      "metadata": {
        "id": "Lqx7g8pl8YSV"
      }
    },
    {
      "cell_type": "code",
      "source": [
        "# retomemos el Data Frame de presidentes. Seleccionamos las fechas de asunción\n",
        "fechas_presidentes_orig = df_presidentes['start']\n",
        "fechas_presidentes_orig"
      ],
      "metadata": {
        "id": "6q-tKQef78G7"
      },
      "execution_count": null,
      "outputs": []
    },
    {
      "cell_type": "code",
      "source": [
        "# Transformemos las fechas en formato string a índices de tiempo\n",
        "fechas_presidentes = pd.DatetimeIndex(fechas_presidentes_orig)\n",
        "fechas_presidentes"
      ],
      "metadata": {
        "colab": {
          "base_uri": "https://localhost:8080/"
        },
        "id": "CAPbN9EP8QGI",
        "outputId": "47bdb273-50c0-4e84-a904-9250dbefad79"
      },
      "execution_count": 49,
      "outputs": [
        {
          "output_type": "execute_result",
          "data": {
            "text/plain": [
              "DatetimeIndex(['1789-04-30', '1797-03-04', '1801-03-04', '1809-03-04',\n",
              "               '1817-03-04', '1825-03-04', '1829-03-04', '1837-03-04',\n",
              "               '1841-03-04', '1841-04-04', '1845-03-04', '1849-03-04',\n",
              "               '1850-07-09', '1853-03-04', '1857-03-04', '1861-03-04',\n",
              "               '1865-04-15', '1869-03-04', '1877-03-04', '1881-03-04',\n",
              "               '1881-09-19', '1885-03-04', '1889-03-04', '1893-03-04',\n",
              "               '1897-03-04', '1901-09-14', '1909-03-04', '1913-03-04',\n",
              "               '1921-03-04', '1923-08-02', '1929-03-04', '1933-03-04',\n",
              "               '1945-04-12', '1953-01-20', '1961-01-20', '1963-11-22',\n",
              "               '1969-01-20', '1974-08-09', '1977-01-20', '1981-01-20',\n",
              "               '1989-01-20', '1993-01-20', '2001-01-20', '2009-01-20',\n",
              "               '2017-01-20'],\n",
              "              dtype='datetime64[ns]', name='start', freq=None)"
            ]
          },
          "metadata": {},
          "execution_count": 49
        }
      ]
    },
    {
      "cell_type": "code",
      "source": [
        "# Ahora que tenemos las fechas en el tipo de dato correcto, construyamos una nueva serie\n",
        "Serie_presidentes = pd.Series(series_nombres.values,index=fechas_presidentes)\n",
        "Serie_presidentes"
      ],
      "metadata": {
        "colab": {
          "base_uri": "https://localhost:8080/"
        },
        "id": "jZE2QOMP821A",
        "outputId": "4f007112-9f86-4779-9200-f870673302cc"
      },
      "execution_count": 58,
      "outputs": [
        {
          "output_type": "execute_result",
          "data": {
            "text/plain": [
              "start\n",
              "1789-04-30         George Washington\n",
              "1797-03-04                John Adams\n",
              "1801-03-04          Thomas Jefferson\n",
              "1809-03-04             James Madison\n",
              "1817-03-04              James Monroe\n",
              "1825-03-04         John Quincy Adams\n",
              "1829-03-04            Andrew Jackson\n",
              "1837-03-04          Martin Van Buren\n",
              "1841-03-04    William Henry Harrison\n",
              "1841-04-04                John Tyler\n",
              "1845-03-04             James K. Polk\n",
              "1849-03-04            Zachary Taylor\n",
              "1850-07-09          Millard Fillmore\n",
              "1853-03-04           Franklin Pierce\n",
              "1857-03-04            James Buchanan\n",
              "1861-03-04           Abraham Lincoln\n",
              "1865-04-15            Andrew Johnson\n",
              "1869-03-04          Ulysses S. Grant\n",
              "1877-03-04       Rutherford B. Hayes\n",
              "1881-03-04         James A. Garfield\n",
              "1881-09-19         Chester A. Arthur\n",
              "1885-03-04          Grover Cleveland\n",
              "1889-03-04         Benjamin Harrison\n",
              "1893-03-04          Grover Cleveland\n",
              "1897-03-04          William McKinley\n",
              "1901-09-14        Theodore Roosevelt\n",
              "1909-03-04       William Howard Taft\n",
              "1913-03-04            Woodrow Wilson\n",
              "1921-03-04         Warren G. Harding\n",
              "1923-08-02           Calvin Coolidge\n",
              "1929-03-04            Herbert Hoover\n",
              "1933-03-04     Franklin D. Roosevelt\n",
              "1945-04-12           Harry S. Truman\n",
              "1953-01-20      Dwight D. Eisenhower\n",
              "1961-01-20           John F. Kennedy\n",
              "1963-11-22         Lyndon B. Johnson\n",
              "1969-01-20             Richard Nixon\n",
              "1974-08-09               Gerald Ford\n",
              "1977-01-20              Jimmy Carter\n",
              "1981-01-20             Ronald Reagan\n",
              "1989-01-20         George H. W. Bush\n",
              "1993-01-20              Bill Clinton\n",
              "2001-01-20            George W. Bush\n",
              "2009-01-20              Barack Obama\n",
              "2017-01-20              Donald Trump\n",
              "dtype: object"
            ]
          },
          "metadata": {},
          "execution_count": 58
        }
      ]
    },
    {
      "cell_type": "markdown",
      "source": [
        "## **DESAFIO**\n",
        "1 Con este archivo, construir un objeto de series de tiempo con el índice igual al año de los juegos olímpicos.\n",
        "\n",
        "2 Separar nombres de apellidos en dos columnas distintas usando la coma como separador.\n",
        "\n",
        "3 Obtener medidas resumen del conjunto de datos. Cuál es el país que ganó más medallas?\n",
        "\n",
        "4 Construir una tabla que muestre cuántas medallas obtuvieron los hombres en total en cada año que se realizó el evento..\n"
      ],
      "metadata": {
        "id": "sWkbDs-fA0JJ"
      }
    },
    {
      "cell_type": "code",
      "source": [
        ""
      ],
      "metadata": {
        "id": "L8mjZl5DAxkZ"
      },
      "execution_count": null,
      "outputs": []
    }
  ]
}